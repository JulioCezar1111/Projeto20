{
  "nbformat": 4,
  "nbformat_minor": 0,
  "metadata": {
    "colab": {
      "name": "Regressão_Logistica_e_binary_cross_entropy.ipynb",
      "provenance": [],
      "collapsed_sections": [],
      "authorship_tag": "ABX9TyPfu+vk9jFdjHmYqJNQy9Fy",
      "include_colab_link": true
    },
    "kernelspec": {
      "name": "python3",
      "display_name": "Python 3"
    },
    "language_info": {
      "name": "python"
    }
  },
  "cells": [
    {
      "cell_type": "markdown",
      "metadata": {
        "id": "view-in-github",
        "colab_type": "text"
      },
      "source": [
        "<a href=\"https://colab.research.google.com/github/JulioCezar1111/Projeto20/blob/main/Regress%C3%A3o_Logistica_e_binary_cross_entropy.ipynb\" target=\"_parent\"><img src=\"https://colab.research.google.com/assets/colab-badge.svg\" alt=\"Open In Colab\"/></a>"
      ]
    },
    {
      "cell_type": "markdown",
      "source": [
        "**RECEITA DE TREINAMENTO**\n",
        "* 1 - DESIGN DO MODELO (INPUT, OUTPUT, FORWARD PASS)\n",
        "* 2 - DEFINIÇAO DA FUNÇÃO DE CUSTO E OTIMIZADOR\n",
        "* 3 - LOOP DE TREINAMENTO:\n",
        "    - FORWARD PASS: CALCULAR A PREDIÇÃO E O CUSTO\n",
        "    - BACKWARPASS: CALCULAR OS GRADIENTES\n",
        "    - ATUALIZAR OS PESOS"
      ],
      "metadata": {
        "id": "IyJsNjPhGpSa"
      }
    },
    {
      "cell_type": "markdown",
      "source": [
        "# **Instalar Bibliotecas:**"
      ],
      "metadata": {
        "id": "jktr1eeLHMiS"
      }
    },
    {
      "cell_type": "code",
      "source": [
        "import torch\n",
        "import torch.nn as nn\n",
        "import numpy as np\n",
        "import time\n",
        "import matplotlib.pyplot as plt\n",
        "from PIL import Image, ImageDraw\n",
        "from torch.autograd import variable\n"
      ],
      "metadata": {
        "id": "G4aHW7zLHTxE"
      },
      "execution_count": 103,
      "outputs": []
    },
    {
      "cell_type": "markdown",
      "source": [
        "# **Preparação DataSet**"
      ],
      "metadata": {
        "id": "4y38Pv-EHuAu"
      }
    },
    {
      "cell_type": "code",
      "source": [
        "x_numpy = np.array([5,7,2,9,4,10,9,4,6,1])\n",
        "y_numpy = np.array([1,1,0,1,0,1,1,0,1,0])\n",
        "\n",
        "\n",
        "x = torch.from_numpy(x_numpy.astype(np.float32))\n",
        "y = torch.from_numpy(y_numpy.astype(np.float32))\n",
        "y = y.view(y.shape[0], 1) # Mudando a direção para vertical\n",
        "x = x.view(x.shape[0], 1)\n",
        "\n",
        "print(x.shape)\n",
        "print(y.shape)\n",
        "\n",
        "plt.plot(x_numpy, y_numpy, 'go')"
      ],
      "metadata": {
        "colab": {
          "base_uri": "https://localhost:8080/",
          "height": 317
        },
        "id": "TLISyUSaH0J-",
        "outputId": "778ae518-1e8b-4f80-d32b-7463a9a9726c"
      },
      "execution_count": 104,
      "outputs": [
        {
          "output_type": "stream",
          "name": "stdout",
          "text": [
            "torch.Size([10, 1])\n",
            "torch.Size([10, 1])\n"
          ]
        },
        {
          "output_type": "execute_result",
          "data": {
            "text/plain": [
              "[<matplotlib.lines.Line2D at 0x7fe76ec0a790>]"
            ]
          },
          "metadata": {},
          "execution_count": 104
        },
        {
          "output_type": "display_data",
          "data": {
            "text/plain": [
              "<Figure size 432x288 with 1 Axes>"
            ],
            "image/png": "[encoded data removed]"
          },
          "metadata": {
            "needs_background": "light"
          }
        }
      ]
    },
    {
      "cell_type": "markdown",
      "source": [
        "# **CLASS DE REGRESSÃO LOGÍSTICA**"
      ],
      "metadata": {
        "id": "NUPo0wfNJdaw"
      }
    },
    {
      "cell_type": "code",
      "source": [
        "class RegressaoLogistica(nn.Module):\n",
        "  def __init__(self, n_input, n_output):\n",
        "    super(RegressaoLogistica, self).__init__()\n",
        "    self.Linear = nn.Linear(n_input, 1) # Objeto para regressão linear (nn.LInear('qtd_entrada', 'qtd_saida'))\n",
        "\n",
        "  def forward(self, x): # metoda para ser chamado no modelo\n",
        "    y_hat = torch.sigmoid(self.Linear(x)) # Calcular a função linear e aplicar a sigmoid\n",
        "    return y_hat"
      ],
      "metadata": {
        "id": "7aFABdmQJg0T"
      },
      "execution_count": 105,
      "outputs": []
    },
    {
      "cell_type": "markdown",
      "source": [
        "# **DEFINICIÇÃO DE MODELO**"
      ],
      "metadata": {
        "id": "toSL7uhwKkOQ"
      }
    },
    {
      "cell_type": "code",
      "source": [
        "input_size = 1\n",
        "output_size = 1\n",
        "model = RegressaoLogistica(input_size, output_size) # Chamando o objeto"
      ],
      "metadata": {
        "id": "mXPxmSUBKpQW"
      },
      "execution_count": 106,
      "outputs": []
    },
    {
      "cell_type": "markdown",
      "source": [
        "# **DEFINIÇÃO DA FUNÇAO DE CUSTO E OTIMIZADOR**"
      ],
      "metadata": {
        "id": "6Wp_BLWcK_VV"
      }
    },
    {
      "cell_type": "code",
      "source": [
        "learning_rate = 0.01\n",
        "criterion = nn.BCELoss() # Função de custo\n",
        "optimizer = torch.optim.SGD(model.parameters(), lr=learning_rate) # Otimizador\n",
        "print (model.parameters())"
      ],
      "metadata": {
        "colab": {
          "base_uri": "https://localhost:8080/"
        },
        "id": "hrX8pFG9LG_L",
        "outputId": "00cb703a-71e7-4302-9ec8-a3ccc1b2f3b7"
      },
      "execution_count": 107,
      "outputs": [
        {
          "output_type": "stream",
          "name": "stdout",
          "text": [
            "<generator object Module.parameters at 0x7fe76efd79d0>\n"
          ]
        }
      ]
    },
    {
      "cell_type": "markdown",
      "source": [
        "# **LOOP DE TREINAMENTO**"
      ],
      "metadata": {
        "id": "WU9MidsQLgA4"
      }
    },
    {
      "cell_type": "code",
      "source": [
        "num_epochs = 200 # repetir o looping\n",
        "contador_custo = []\n",
        "\n",
        "for epoch in range(num_epochs):\n",
        "\n",
        "  #forward pass and loos\n",
        "  y_hat = model(x) # valor previsto\n",
        "  loss = criterion(y_hat, y)\n",
        "  contador_custo.append(loss.detach().numpy())\n",
        "  #print(y_hat)\n",
        "\n",
        "  \n",
        "  #backward pass (calcular gradientes)\n",
        "  loss.backward()\n",
        "\n",
        "  #update (atualizar os pesos)\n",
        "  optimizer.step()\n",
        "\n",
        "  if (epoch+1)%10 == 0:\n",
        "\n",
        "      print(\"===============================\")\n",
        "      print('Epoch: ', epoch)\n",
        "      print('Custo: {:.20f}'.format(loss.item())) \n",
        "      print('m: {:.5f}'.format(model.Linear.weight.data.detach().item()))\n",
        "      print('m (gradiente): {:.5f}'.format(model.Linear.weight.grad.detach().item()))\n",
        "      print('b: {:.5f}'.format(model.Linear.bias.data.detach().item()))\n",
        "      print('b (gradiente): {:.5f}'.format(model.Linear.bias.grad.detach().item()))\n",
        "\n",
        "     \n",
        "  #limpar o otimizador\n",
        "  optimizer.zero_grad()"
      ],
      "metadata": {
        "colab": {
          "base_uri": "https://localhost:8080/"
        },
        "id": "qgmQFckNLh78",
        "outputId": "19cff081-beca-4ac1-8c13-7235efa10c38"
      },
      "execution_count": 108,
      "outputs": [
        {
          "output_type": "stream",
          "name": "stdout",
          "text": [
            "===============================\n",
            "Epoch:  9\n",
            "Custo: 0.89182102680206298828\n",
            "m: -0.01569\n",
            "m (gradiente): -2.85291\n",
            "b: -0.49864\n",
            "b (gradiente): -0.27930\n",
            "===============================\n",
            "Epoch:  19\n",
            "Custo: 0.52553319931030273438\n",
            "m: 0.15334\n",
            "m (gradiente): -1.01724\n",
            "b: -0.48699\n",
            "b (gradiente): -0.02173\n",
            "===============================\n",
            "Epoch:  29\n",
            "Custo: 0.47439542412757873535\n",
            "m: 0.21855\n",
            "m (gradiente): -0.44685\n",
            "b: -0.49012\n",
            "b (gradiente): 0.06158\n",
            "===============================\n",
            "Epoch:  39\n",
            "Custo: 0.46244645118713378906\n",
            "m: 0.25002\n",
            "m (gradiente): -0.23320\n",
            "b: -0.49827\n",
            "b (gradiente): 0.09382\n",
            "===============================\n",
            "Epoch:  49\n",
            "Custo: 0.45806169509887695312\n",
            "m: 0.26735\n",
            "m (gradiente): -0.13465\n",
            "b: -0.50856\n",
            "b (gradiente): 0.10877\n",
            "===============================\n",
            "Epoch:  59\n",
            "Custo: 0.45560175180435180664\n",
            "m: 0.27777\n",
            "m (gradiente): -0.08407\n",
            "b: -0.51990\n",
            "b (gradiente): 0.11630\n",
            "===============================\n",
            "Epoch:  69\n",
            "Custo: 0.45370882749557495117\n",
            "m: 0.28453\n",
            "m (gradiente): -0.05661\n",
            "b: -0.53176\n",
            "b (gradiente): 0.12018\n",
            "===============================\n",
            "Epoch:  79\n",
            "Custo: 0.45200133323669433594\n",
            "m: 0.28928\n",
            "m (gradiente): -0.04121\n",
            "b: -0.54390\n",
            "b (gradiente): 0.12213\n",
            "===============================\n",
            "Epoch:  89\n",
            "Custo: 0.45036277174949645996\n",
            "m: 0.29287\n",
            "m (gradiente): -0.03241\n",
            "b: -0.55617\n",
            "b (gradiente): 0.12303\n",
            "===============================\n",
            "Epoch:  99\n",
            "Custo: 0.44875589013099670410\n",
            "m: 0.29581\n",
            "m (gradiente): -0.02731\n",
            "b: -0.56849\n",
            "b (gradiente): 0.12333\n",
            "===============================\n",
            "Epoch:  109\n",
            "Custo: 0.44716835021972656250\n",
            "m: 0.29837\n",
            "m (gradiente): -0.02433\n",
            "b: -0.58082\n",
            "b (gradiente): 0.12329\n",
            "===============================\n",
            "Epoch:  119\n",
            "Custo: 0.44559583067893981934\n",
            "m: 0.30069\n",
            "m (gradiente): -0.02257\n",
            "b: -0.59314\n",
            "b (gradiente): 0.12306\n",
            "===============================\n",
            "Epoch:  129\n",
            "Custo: 0.44403696060180664062\n",
            "m: 0.30289\n",
            "m (gradiente): -0.02151\n",
            "b: -0.60543\n",
            "b (gradiente): 0.12271\n",
            "===============================\n",
            "Epoch:  139\n",
            "Custo: 0.44249096512794494629\n",
            "m: 0.30500\n",
            "m (gradiente): -0.02086\n",
            "b: -0.61768\n",
            "b (gradiente): 0.12230\n",
            "===============================\n",
            "Epoch:  149\n",
            "Custo: 0.44095772504806518555\n",
            "m: 0.30706\n",
            "m (gradiente): -0.02046\n",
            "b: -0.62988\n",
            "b (gradiente): 0.12185\n",
            "===============================\n",
            "Epoch:  159\n",
            "Custo: 0.43943700194358825684\n",
            "m: 0.30909\n",
            "m (gradiente): -0.02019\n",
            "b: -0.64204\n",
            "b (gradiente): 0.12138\n",
            "===============================\n",
            "Epoch:  169\n",
            "Custo: 0.43792867660522460938\n",
            "m: 0.31110\n",
            "m (gradiente): -0.02001\n",
            "b: -0.65415\n",
            "b (gradiente): 0.12091\n",
            "===============================\n",
            "Epoch:  179\n",
            "Custo: 0.43643274903297424316\n",
            "m: 0.31310\n",
            "m (gradiente): -0.01988\n",
            "b: -0.66622\n",
            "b (gradiente): 0.12042\n",
            "===============================\n",
            "Epoch:  189\n",
            "Custo: 0.43494874238967895508\n",
            "m: 0.31508\n",
            "m (gradiente): -0.01977\n",
            "b: -0.67823\n",
            "b (gradiente): 0.11994\n",
            "===============================\n",
            "Epoch:  199\n",
            "Custo: 0.43347692489624023438\n",
            "m: 0.31705\n",
            "m (gradiente): -0.01969\n",
            "b: -0.69020\n",
            "b (gradiente): 0.11945\n"
          ]
        }
      ]
    },
    {
      "cell_type": "markdown",
      "source": [
        "# **PLOTANDO O GRÁFICO DA FUNÇÃO DE CUSTO**"
      ],
      "metadata": {
        "id": "Db_X_Z97NFOV"
      }
    },
    {
      "cell_type": "code",
      "source": [
        "print(\"GRÁFICO DA FUNÇÃO DE CUSTO\")\n",
        "plt.plot(contador_custo, 'r')\n",
        "plt.show()"
      ],
      "metadata": {
        "colab": {
          "base_uri": "https://localhost:8080/",
          "height": 282
        },
        "id": "8Nl-7pASNHhe",
        "outputId": "78fa87ae-850c-447a-9afc-1a6c6d33d3ec"
      },
      "execution_count": 109,
      "outputs": [
        {
          "output_type": "stream",
          "name": "stdout",
          "text": [
            "GRÁFICO DA FUNÇÃO DE CUSTO\n"
          ]
        },
        {
          "output_type": "display_data",
          "data": {
            "text/plain": [
              "<Figure size 432x288 with 1 Axes>"
            ],
            "image/png": "[encoded data removed]"
          },
          "metadata": {
            "needs_background": "light"
          }
        }
      ]
    },
    {
      "cell_type": "markdown",
      "source": [
        "# **fazer predição de teste**"
      ],
      "metadata": {
        "id": "30KaDqtLNxYb"
      }
    },
    {
      "cell_type": "code",
      "source": [
        "from contextlib import nullcontext\n",
        "\n",
        "teste = np.array([2, 3, 6, 7, 8])\n",
        "t_teste = torch.from_numpy(teste.astype(np.float32))\n",
        "t_teste = t_teste.view(t_teste.shape[0], 1)\n",
        "\n",
        "with torch.no_grad(): # Evitar de atualizar os gradientes\n",
        "\n",
        "  predicoes = model(t_teste)\n",
        "\n",
        "  for x, y in zip(t_teste, predicoes):\n",
        "\n",
        "    #definindo o cutoff / threshold\n",
        "    status = nullcontext\n",
        "\n",
        "    if (y >= 0.7):\n",
        "\n",
        "      status = \"aprovado\"\n",
        "\n",
        "    else:\n",
        "\n",
        "      status = \"reprovado\"\n",
        "\n",
        "    print ('x: {:.2f} | ŷ: {:.2f} | '.format(x.detach().item(),y.detach().item()), status)"
      ],
      "metadata": {
        "colab": {
          "base_uri": "https://localhost:8080/"
        },
        "id": "c3sJTuljNzFc",
        "outputId": "e72233b6-ce1b-4e00-90bf-973df6b0d9b3"
      },
      "execution_count": 110,
      "outputs": [
        {
          "output_type": "stream",
          "name": "stdout",
          "text": [
            "x: 2.00 | ŷ: 0.49 |  reprovado\n",
            "x: 3.00 | ŷ: 0.56 |  reprovado\n",
            "x: 6.00 | ŷ: 0.77 |  aprovado\n",
            "x: 7.00 | ŷ: 0.82 |  aprovado\n",
            "x: 8.00 | ŷ: 0.86 |  aprovado\n"
          ]
        }
      ]
    }
  ]
}